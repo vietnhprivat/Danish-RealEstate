{
 "cells": [
  {
   "cell_type": "code",
   "execution_count": null,
   "metadata": {},
   "outputs": [],
   "source": [
    "import requests\n",
    "from bs4 import BeautifulSoup\n",
    "import pandas as pd\n",
    "import time\n",
    "import pickle\n",
    "import numpy as np\n",
    "\n",
    "def get_text_content(a_element):\n",
    "    # Extract the href attribute (URL)\n",
    "    link = a_element['href']\n",
    "\n",
    "    # Extract the text content\n",
    "    address = a_element.get_text(strip=True)\n",
    "    return address, f'https://www.boliga.dk/{link}'\n",
    "\n",
    "def get_boliga(page, status=True):\n",
    "    \n",
    "    address_list = []\n",
    "    url = f'https://www.boliga.dk/salg/resultater?searchTab=1&page={page}&sort=date-d&zipcodeFrom=1000&zipcodeTo=9990'\n",
    "    try:\n",
    "        response = requests.get(url, timeout=3)\n",
    "        response.raise_for_status()  # Raises a HTTPError if the status is 4xx, 5xx\n",
    "    except (requests.RequestException, ValueError):\n",
    "        print(\"Network or parsing error\")\n",
    "        \n",
    "        # Write the error pages to a text file\n",
    "        with open('error_pages.txt', 'a') as txt_file:\n",
    "            txt_file.write(f\"{page},\")\n",
    "            \n",
    "    else:\n",
    "        soup = BeautifulSoup(response.text, 'html.parser')\n",
    "        a_elements = soup.find_all('a', {'data-gtm': 'sales_address', 'class': 'text-primary fw-bolder text-start'})\n",
    "\n",
    "        # for a_element in a_elements:\n",
    "        #     pd.concat((df,get_text_content(a_element)))\n",
    "        for a_element in a_elements:\n",
    "            address_list.append(get_text_content(a_element))\n",
    "    if page%50 == 0 and status == True or page == 1:\n",
    "        print(f'Page {page} is done')\n",
    "        \n",
    "    # Write the error pages to a text file\n",
    "    with open('pagenumber.txt', 'a') as txt_file:\n",
    "        txt_file.write(f\"{page},\")\n",
    "        \n",
    "    address_df = pd.DataFrame(address_list, columns=['address', 'link'])\n",
    "    return address_df\n",
    "\n",
    "\n",
    "# for page in range(1, 30_000):\n",
    "#     if page == 1:\n",
    "#         df = get_boliga(page)\n",
    "#     else:\n",
    "#         df = pd.concat((df, get_boliga(page)))\n",
    "#         df.to_pickle('boliga.pkl')\n",
    "\n",
    "#     end_time = time.time()  # Stop the timer\n"
   ]
  }
 ],
 "metadata": {
  "kernelspec": {
   "display_name": "azure",
   "language": "python",
   "name": "python3"
  },
  "language_info": {
   "codemirror_mode": {
    "name": "ipython",
    "version": 3
   },
   "file_extension": ".py",
   "mimetype": "text/x-python",
   "name": "python",
   "nbconvert_exporter": "python",
   "pygments_lexer": "ipython3",
   "version": "3.12.1"
  }
 },
 "nbformat": 4,
 "nbformat_minor": 2
}
